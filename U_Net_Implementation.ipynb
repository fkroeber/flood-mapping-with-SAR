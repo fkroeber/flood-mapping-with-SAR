{
  "nbformat": 4,
  "nbformat_minor": 0,
  "metadata": {
    "colab": {
      "provenance": [],
      "gpuType": "T4"
    },
    "kernelspec": {
      "name": "python3",
      "display_name": "Python 3"
    },
    "language_info": {
      "name": "python"
    },
    "accelerator": "GPU"
  },
  "cells": [
    {
      "cell_type": "code",
      "source": [
        "from google.colab import drive\n",
        "drive.mount('/content/drive')"
      ],
      "metadata": {
        "colab": {
          "base_uri": "https://localhost:8080/"
        },
        "id": "OI7WT3fbIHUZ",
        "outputId": "1f63e089-a3c3-4f17-dec7-a35e35225bd0"
      },
      "execution_count": null,
      "outputs": [
        {
          "output_type": "stream",
          "name": "stdout",
          "text": [
            "Mounted at /content/drive\n"
          ]
        }
      ]
    },
    {
      "cell_type": "code",
      "source": [
        "import os\n",
        "\n",
        "os.chdir('/content/drive/MyDrive/CDE/PracticalWorkshop/Dataset/')"
      ],
      "metadata": {
        "id": "BQveCjVDIJbI"
      },
      "execution_count": null,
      "outputs": []
    },
    {
      "cell_type": "code",
      "source": [
        "#!unzip 'Track1.zip'"
      ],
      "metadata": {
        "id": "dgYRrFD-IbqY"
      },
      "execution_count": null,
      "outputs": []
    },
    {
      "cell_type": "code",
      "source": [
        "!pip install rasterio -q"
      ],
      "metadata": {
        "id": "kruEbEbYlmlD",
        "colab": {
          "base_uri": "https://localhost:8080/"
        },
        "outputId": "1b3aecfa-11d0-4992-caf3-f217a23792f2"
      },
      "execution_count": null,
      "outputs": [
        {
          "output_type": "stream",
          "name": "stdout",
          "text": [
            "\u001b[2K     \u001b[90m━━━━━━━━━━━━━━━━━━━━━━━━━━━━━━━━━━━━━━━━\u001b[0m \u001b[32m20.6/20.6 MB\u001b[0m \u001b[31m40.3 MB/s\u001b[0m eta \u001b[36m0:00:00\u001b[0m\n",
            "\u001b[?25h"
          ]
        }
      ]
    },
    {
      "cell_type": "code",
      "source": [
        "import os\n",
        "import numpy as np\n",
        "from PIL import Image\n",
        "import rasterio\n",
        "\n",
        "import torch\n",
        "from torchvision.transforms import transforms\n",
        "import torchvision.datasets as datasets\n",
        "from torch.utils.data import Dataset, DataLoader\n",
        "import torch.nn as nn\n",
        "from torchvision import models\n",
        "from torch.nn.functional import relu\n",
        "import torch.optim as optim\n",
        "from sklearn.metrics import accuracy_score\n",
        "import torch.nn.functional as F\n",
        "\n",
        "from sklearn.model_selection import train_test_split\n",
        "\n",
        "import matplotlib.pyplot as plt"
      ],
      "metadata": {
        "id": "c1dUZ0-1kx5X"
      },
      "execution_count": null,
      "outputs": []
    },
    {
      "cell_type": "code",
      "source": [
        "#@title PixelClassificationDataset\n",
        "class PixelClassificationDataset(Dataset):\n",
        "    def __init__(self, feature_folder, label_folder, transform = None):\n",
        "        self.feature_folder = feature_folder\n",
        "        self.label_folder = label_folder\n",
        "        self.feature_files = [f for f in os.listdir(feature_folder) if f.endswith(('.tif'))]\n",
        "        self.label_files = [f for f in os.listdir(label_folder) if f.endswith(('.png'))]\n",
        "        self.transform = transform\n",
        "\n",
        "    def __len__(self):\n",
        "        return len(self.feature_files)\n",
        "\n",
        "    def __getitem__(self, idx):\n",
        "        # Load feature image using rasterio\n",
        "        feature_file = self.feature_files[idx]\n",
        "        feature_path = os.path.join(self.feature_folder, feature_file)\n",
        "        feature_img = rasterio.open(feature_path).read()\n",
        "        feature_array = np.array(feature_img).transpose(1,2,0) # Convert feature image to numpy array\n",
        "\n",
        "        # Load corresponding label image using PIL\n",
        "        label_file = self.label_files[idx]\n",
        "        label_path = os.path.join(self.label_folder, label_file)\n",
        "        label_img = Image.open(label_path)\n",
        "        label_array = np.array(label_img)  # Convert label image to numpy array\n",
        "\n",
        "        if self.transform:\n",
        "            feature_array = self.transform(feature_array)\n",
        "\n",
        "        return (feature_array, label_array)"
      ],
      "metadata": {
        "id": "4Z32VYqOk0z9"
      },
      "execution_count": null,
      "outputs": []
    },
    {
      "cell_type": "code",
      "source": [
        "feature_folder = \"./Track1/subsample/train/images\"\n",
        "label_folder = './Track1//subsample/train/labels'\n",
        "\n",
        "\n",
        "\n",
        "batch_size = 12\n",
        "\n",
        "# Create an instance of the custom dataset\n",
        "dataset = PixelClassificationDataset(feature_folder,\n",
        "                                     label_folder,\n",
        "                                     transform = transforms.ToTensor()\n",
        "                                     )\n",
        "\n",
        "train_set, val_set = torch.utils.data.random_split(dataset, [160,40])\n",
        "\n",
        "train_loader = DataLoader(dataset = train_set, batch_size = batch_size, shuffle = True)\n",
        "val_loader = DataLoader(dataset = val_set, batch_size = batch_size, shuffle = True)\n"
      ],
      "metadata": {
        "id": "irQec5ebk3Cp"
      },
      "execution_count": null,
      "outputs": []
    },
    {
      "cell_type": "code",
      "source": [
        "train_set[0][1].min()"
      ],
      "metadata": {
        "colab": {
          "base_uri": "https://localhost:8080/"
        },
        "id": "bpdgV-OwGW6g",
        "outputId": "0c956b3a-443f-4a69-f48e-53ab72385620"
      },
      "execution_count": null,
      "outputs": [
        {
          "output_type": "stream",
          "name": "stderr",
          "text": [
            "/usr/local/lib/python3.10/dist-packages/rasterio/__init__.py:304: NotGeoreferencedWarning: Dataset has no geotransform, gcps, or rpcs. The identity matrix will be returned.\n",
            "  dataset = DatasetReader(path, driver=driver, sharing=sharing, **kwargs)\n"
          ]
        },
        {
          "output_type": "execute_result",
          "data": {
            "text/plain": [
              "0"
            ]
          },
          "metadata": {},
          "execution_count": 8
        }
      ]
    },
    {
      "cell_type": "code",
      "source": [
        "#@title U-NET\n",
        "class UNet(nn.Module):\n",
        "    def __init__(self, n_class, n_input):\n",
        "        super(UNet, self).__init__()\n",
        "\n",
        "        # Encoder\n",
        "        # input: 512*512x6\n",
        "        self.e11 = nn.Conv2d(n_input, 64, kernel_size=3, padding=1)  #510*510*64\n",
        "        self.e12 = nn.Conv2d(64, 64, kernel_size=3, padding=1) #508*508*64\n",
        "        self.pool1 = nn.MaxPool2d(kernel_size=2, stride=2) #254*254*64\n",
        "\n",
        "        # input: 254*254*64\n",
        "        self.e21 = nn.Conv2d(64, 128, kernel_size=3, padding=1) #252*252*128\n",
        "        self.e22 = nn.Conv2d(128, 128, kernel_size=3, padding=1) #250*250*128\n",
        "        self.pool2 = nn.MaxPool2d(kernel_size=2, stride=2) #125*125*128\n",
        "\n",
        "        #input: 125*125*128\n",
        "        self.e31 = nn.Conv2d(128, 256, kernel_size=3, padding=1) #123*123*256\n",
        "        self.e32 = nn.Conv2d(256, 256, kernel_size=3, padding=1) #121 * 121 *256\n",
        "        self.pool3 = nn.MaxPool2d(kernel_size=2, stride=2) # 60 * 60*256\n",
        "\n",
        "        #input: 60*60*256\n",
        "        self.e41 = nn.Conv2d(256, 512, kernel_size=3, padding=1) #58*58*512\n",
        "        self.e42 = nn.Conv2d(512, 512, kernel_size=3, padding=1) #56*56*512\n",
        "        self.pool4 = nn.MaxPool2d(kernel_size=2, stride=2) # 28*28*512\n",
        "\n",
        "        #input: 28*28*512\n",
        "        self.e51 = nn.Conv2d(512, 1024, kernel_size=3, padding=1) #26*26*1024\n",
        "        self.e52 = nn.Conv2d(1024, 1024, kernel_size=3, padding=1) #24*24*1024\n",
        "\n",
        "        # Decoder\n",
        "        self.upconv1 = nn.ConvTranspose2d(1024, 512, kernel_size=2, stride=2)\n",
        "        self.d11 = nn.Conv2d(1024, 512, kernel_size=3, padding=1)\n",
        "        self.d12 = nn.Conv2d(512, 512, kernel_size=3, padding=1)\n",
        "\n",
        "        self.upconv2 = nn.ConvTranspose2d(512, 256, kernel_size=2, stride=2)\n",
        "        self.d21 = nn.Conv2d(512, 256, kernel_size=3, padding=1)\n",
        "        self.d22 = nn.Conv2d(256, 256, kernel_size=3, padding=1)\n",
        "\n",
        "        self.upconv3 = nn.ConvTranspose2d(256, 128, kernel_size=2, stride=2)\n",
        "        self.d31 = nn.Conv2d(256, 128, kernel_size=3, padding=1)\n",
        "        self.d32 = nn.Conv2d(128, 128, kernel_size=3, padding=1)\n",
        "\n",
        "        self.upconv4 = nn.ConvTranspose2d(128, 64, kernel_size=2, stride=2)\n",
        "        self.d41 = nn.Conv2d(128, 64, kernel_size=3, padding=1)\n",
        "        self.d42 = nn.Conv2d(64, 64, kernel_size=3, padding=1)\n",
        "\n",
        "        # Output layer\n",
        "        self.outconv = nn.Conv2d(64, n_class, kernel_size=1)\n",
        "\n",
        "    def forward(self, x):\n",
        "        # Encoder\n",
        "        xe11 = F.relu(self.e11(x.float()))\n",
        "        xe12 = F.relu(self.e12(xe11))\n",
        "        xp1 = self.pool1(xe12)\n",
        "\n",
        "        xe21 = F.relu(self.e21(xp1))\n",
        "        xe22 = F.relu(self.e22(xe21))\n",
        "        xp2 = self.pool2(xe22)\n",
        "\n",
        "        xe31 = F.relu(self.e31(xp2))\n",
        "        xe32 = F.relu(self.e32(xe31))\n",
        "        xp3 = self.pool3(xe32)\n",
        "\n",
        "        xe41 = F.relu(self.e41(xp3))\n",
        "        xe42 = F.relu(self.e42(xe41))\n",
        "        xp4 = self.pool4(xe42)\n",
        "\n",
        "        xe51 = F.relu(self.e51(xp4))\n",
        "        xe52 = F.relu(self.e52(xe51))\n",
        "\n",
        "        # Decoder\n",
        "        xu1 = self.upconv1(xe52)\n",
        "        xu11 = torch.cat([xu1, xe42], dim=1)\n",
        "        xd11 = F.relu(self.d11(xu11))\n",
        "        xd12 = F.relu(self.d12(xd11))\n",
        "\n",
        "        xu2 = self.upconv2(xd12)\n",
        "        xu22 = torch.cat([xu2, xe32], dim=1)\n",
        "        xd21 = F.relu(self.d21(xu22))\n",
        "        xd22 = F.relu(self.d22(xd21))\n",
        "\n",
        "        xu3 = self.upconv3(xd22)\n",
        "        xu33 = torch.cat([xu3, xe22], dim=1)\n",
        "        xd31 = F.relu(self.d31(xu33))\n",
        "        xd32 = F.relu(self.d32(xd31))\n",
        "\n",
        "        xu4 = self.upconv4(xd32)\n",
        "        xu44 = torch.cat([xu4, xe12], dim=1)\n",
        "        xd41 = F.relu(self.d41(xu44))\n",
        "        xd42 = F.relu(self.d42(xd41))\n",
        "\n",
        "        # Output layer\n",
        "        out = self.outconv(xd42)\n",
        "\n",
        "        return out"
      ],
      "metadata": {
        "id": "CLQ8kDM_JOSK",
        "cellView": "form"
      },
      "execution_count": null,
      "outputs": []
    },
    {
      "cell_type": "code",
      "source": [
        "# Instantiate your U-Net model\n",
        "\n",
        "torch.cuda.empty_cache()\n",
        "\n",
        "device = torch.device(\"cuda\" if torch.cuda.is_available() else \"cpu\")\n",
        "\n",
        "model = UNet(n_class=2, n_input = 6).to(device)\n",
        "\n",
        "# Define loss function and optimizer\n",
        "criterion = nn.CrossEntropyLoss()\n",
        "optimizer = optim.Adam(model.parameters(), lr=0.001)\n",
        "\n"
      ],
      "metadata": {
        "id": "6nCNAd-gAuyl"
      },
      "execution_count": null,
      "outputs": []
    },
    {
      "cell_type": "code",
      "source": [
        "device"
      ],
      "metadata": {
        "colab": {
          "base_uri": "https://localhost:8080/"
        },
        "id": "oX6xLNoD9aVj",
        "outputId": "89eb134e-c604-4c66-bd0d-14b5d1e11dd9"
      },
      "execution_count": null,
      "outputs": [
        {
          "output_type": "execute_result",
          "data": {
            "text/plain": [
              "device(type='cuda')"
            ]
          },
          "metadata": {},
          "execution_count": 11
        }
      ]
    },
    {
      "cell_type": "code",
      "source": [
        "!pip install torchmetrics"
      ],
      "metadata": {
        "colab": {
          "base_uri": "https://localhost:8080/"
        },
        "id": "5GRA44FkMl-X",
        "outputId": "911de92a-4058-4c0d-e8cb-d6a06b01eb2a"
      },
      "execution_count": null,
      "outputs": [
        {
          "output_type": "stream",
          "name": "stdout",
          "text": [
            "Collecting torchmetrics\n",
            "  Downloading torchmetrics-1.3.0.post0-py3-none-any.whl (840 kB)\n",
            "\u001b[2K     \u001b[90m━━━━━━━━━━━━━━━━━━━━━━━━━━━━━━━━━━━━━━━━\u001b[0m \u001b[32m840.2/840.2 kB\u001b[0m \u001b[31m5.1 MB/s\u001b[0m eta \u001b[36m0:00:00\u001b[0m\n",
            "\u001b[?25hRequirement already satisfied: numpy>1.20.0 in /usr/local/lib/python3.10/dist-packages (from torchmetrics) (1.23.5)\n",
            "Requirement already satisfied: packaging>17.1 in /usr/local/lib/python3.10/dist-packages (from torchmetrics) (23.2)\n",
            "Requirement already satisfied: torch>=1.10.0 in /usr/local/lib/python3.10/dist-packages (from torchmetrics) (2.1.0+cu121)\n",
            "Collecting lightning-utilities>=0.8.0 (from torchmetrics)\n",
            "  Downloading lightning_utilities-0.10.1-py3-none-any.whl (24 kB)\n",
            "Requirement already satisfied: setuptools in /usr/local/lib/python3.10/dist-packages (from lightning-utilities>=0.8.0->torchmetrics) (67.7.2)\n",
            "Requirement already satisfied: typing-extensions in /usr/local/lib/python3.10/dist-packages (from lightning-utilities>=0.8.0->torchmetrics) (4.5.0)\n",
            "Requirement already satisfied: filelock in /usr/local/lib/python3.10/dist-packages (from torch>=1.10.0->torchmetrics) (3.13.1)\n",
            "Requirement already satisfied: sympy in /usr/local/lib/python3.10/dist-packages (from torch>=1.10.0->torchmetrics) (1.12)\n",
            "Requirement already satisfied: networkx in /usr/local/lib/python3.10/dist-packages (from torch>=1.10.0->torchmetrics) (3.2.1)\n",
            "Requirement already satisfied: jinja2 in /usr/local/lib/python3.10/dist-packages (from torch>=1.10.0->torchmetrics) (3.1.3)\n",
            "Requirement already satisfied: fsspec in /usr/local/lib/python3.10/dist-packages (from torch>=1.10.0->torchmetrics) (2023.6.0)\n",
            "Requirement already satisfied: triton==2.1.0 in /usr/local/lib/python3.10/dist-packages (from torch>=1.10.0->torchmetrics) (2.1.0)\n",
            "Requirement already satisfied: MarkupSafe>=2.0 in /usr/local/lib/python3.10/dist-packages (from jinja2->torch>=1.10.0->torchmetrics) (2.1.4)\n",
            "Requirement already satisfied: mpmath>=0.19 in /usr/local/lib/python3.10/dist-packages (from sympy->torch>=1.10.0->torchmetrics) (1.3.0)\n",
            "Installing collected packages: lightning-utilities, torchmetrics\n",
            "Successfully installed lightning-utilities-0.10.1 torchmetrics-1.3.0.post0\n"
          ]
        }
      ]
    },
    {
      "cell_type": "code",
      "source": [
        "import torch\n",
        "import torchmetrics\n",
        "import matplotlib.pyplot as plt\n",
        "\n",
        "# Training parameters\n",
        "num_epochs = 20\n",
        "early_stopping_patience = 5\n",
        "best_validation_loss = float('inf')\n",
        "early_stopping_counter = 0\n",
        "\n",
        "# Lists to store training and testing loss for plotting\n",
        "train_losses = []\n",
        "test_losses = []\n",
        "\n",
        "# Lists to store accuracy for plotting\n",
        "train_accuracies = []\n",
        "test_accuracies = []\n",
        "\n",
        "# Training loop\n",
        "for epoch in range(num_epochs):\n",
        "    # Training\n",
        "    model.train()\n",
        "    running_train_loss = 0.0\n",
        "    train_predictions = []\n",
        "    train_labels = []\n",
        "\n",
        "    for batch in train_loader:\n",
        "        features, labels = batch\n",
        "        features, labels = features.to(device), labels.to(device)\n",
        "\n",
        "        optimizer.zero_grad()\n",
        "        outputs = model(features)\n",
        "\n",
        "        # Ensure that target labels have the correct data type\n",
        "        labels = labels.to(torch.long)\n",
        "\n",
        "        loss = criterion(outputs, labels)\n",
        "        loss.backward()\n",
        "        optimizer.step()\n",
        "\n",
        "        running_train_loss += loss.item()\n",
        "\n",
        "        # Store predictions and labels for accuracy calculation\n",
        "        _, predicted = torch.max(outputs.data, 1)\n",
        "        train_predictions.extend(predicted.cpu().numpy())\n",
        "        train_labels.extend(labels.cpu().numpy())\n",
        "\n",
        "    # Calculate training accuracy\n",
        "    train_accuracy = torchmetrics.functional.accuracy(torch.tensor(train_predictions).flatten(),\n",
        "                                                      torch.tensor(train_labels).flatten(),\n",
        "                                                      task='binary')\n",
        "    train_accuracies.append(train_accuracy.item())\n",
        "\n",
        "    # Calculate average training loss\n",
        "    average_train_loss = running_train_loss / len(train_loader)\n",
        "    train_losses.append(average_train_loss)\n",
        "\n",
        "    # Validation\n",
        "    model.eval()\n",
        "    running_test_loss = 0.0\n",
        "    test_predictions = []\n",
        "    test_labels = []\n",
        "\n",
        "    with torch.no_grad():\n",
        "        for batch in val_loader:\n",
        "            features, labels = batch\n",
        "            features, labels = features.to(device), labels.to(device)\n",
        "\n",
        "            outputs = model(features)\n",
        "\n",
        "            # Ensure that target labels have the correct data type\n",
        "            labels = labels.to(torch.long)\n",
        "\n",
        "            loss = criterion(outputs, labels)\n",
        "            running_test_loss += loss.item()\n",
        "\n",
        "\n",
        "            # Store predictions and labels for accuracy calculation\n",
        "            _, predicted = torch.max(outputs.data, 1)\n",
        "            test_predictions.extend(predicted.cpu().numpy())\n",
        "            test_labels.extend(labels.cpu().numpy())\n",
        "\n",
        "    # Calculate testing accuracy\n",
        "    test_accuracy = torchmetrics.functional.accuracy(torch.tensor(test_predictions).flatten(),\n",
        "                                                     torch.tensor(test_labels).flatten(),\n",
        "                                                     task='binary')\n",
        "    test_accuracies.append(test_accuracy.item())\n",
        "\n",
        "    # Calculate average testing loss\n",
        "    average_test_loss = running_test_loss / len(val_loader)\n",
        "    test_losses.append(average_test_loss)\n",
        "\n",
        "    # Early stopping\n",
        "    if average_test_loss < best_validation_loss:\n",
        "        best_validation_loss = average_test_loss\n",
        "        early_stopping_counter = 0\n",
        "    else:\n",
        "        early_stopping_counter += 1\n",
        "\n",
        "    if early_stopping_counter >= early_stopping_patience:\n",
        "        print(f\"Early stopping at epoch {epoch + 1}\")\n",
        "        break\n",
        "\n",
        "# Plotting\n",
        "plt.figure(figsize=(12, 5))\n",
        "\n",
        "# Plot training and testing losses\n",
        "plt.subplot(1, 2, 1)\n",
        "plt.plot(train_losses, label='Training Loss')\n",
        "plt.plot(test_losses, label='Testing Loss')\n",
        "plt.xlabel('Epoch')\n",
        "plt.ylabel('Loss')\n",
        "plt.legend()\n",
        "\n",
        "# Plot training and testing accuracies\n",
        "plt.subplot(1, 2, 2)\n",
        "plt.plot(train_accuracies, label='Training Accuracy')\n",
        "plt.plot(test_accuracies, label='Testing Accuracy')\n",
        "plt.xlabel('Epoch')\n",
        "plt.ylabel('Accuracy')\n",
        "plt.legend()\n",
        "\n",
        "plt.show()\n"
      ],
      "metadata": {
        "colab": {
          "base_uri": "https://localhost:8080/",
          "height": 482
        },
        "id": "tB8f0UWRA77U",
        "outputId": "5f28d667-0df1-4232-9316-3b8c61f35feb"
      },
      "execution_count": null,
      "outputs": [
        {
          "output_type": "stream",
          "name": "stdout",
          "text": [
            "Early stopping at epoch 13\n"
          ]
        },
        {
          "output_type": "display_data",
          "data": {
            "text/plain": [
              "<Figure size 1200x500 with 2 Axes>"
            ],
            "image/png": "[encoded data removed]"
          },
          "metadata": {}
        }
      ]
    },
    {
      "cell_type": "code",
      "source": [
        "#find a loss function to compare matrix\n",
        "#otherwise, flat the array."
      ],
      "metadata": {
        "colab": {
          "base_uri": "https://localhost:8080/"
        },
        "id": "tLlCHkPxEIWy",
        "outputId": "0ced2ae0-bde6-4c60-fbce-0bb982e18516"
      },
      "execution_count": null,
      "outputs": [
        {
          "output_type": "execute_result",
          "data": {
            "text/plain": [
              "160"
            ]
          },
          "metadata": {},
          "execution_count": 15
        }
      ]
    }
  ]
}